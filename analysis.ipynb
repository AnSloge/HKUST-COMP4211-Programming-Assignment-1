{
 "cells": [
  {
   "cell_type": "markdown",
   "metadata": {},
   "source": [
    "COMP4211 - Assignment 1"
   ]
  },
  {
   "cell_type": "code",
   "execution_count": 455,
   "metadata": {},
   "outputs": [],
   "source": [
    "import numpy as np\n",
    "import pandas as pd\n",
    "import scipy\n",
    "import matplotlib.pyplot as plt\n",
    "import seaborn as sns\n",
    "import sklearn"
   ]
  },
  {
   "cell_type": "markdown",
   "metadata": {},
   "source": [
    "## Part 1: Data Exploration and Preparation"
   ]
  },
  {
   "cell_type": "markdown",
   "metadata": {},
   "source": [
    "#### Q1: Dataset Overview"
   ]
  },
  {
   "cell_type": "code",
   "execution_count": 456,
   "metadata": {},
   "outputs": [],
   "source": [
    "df = pd.read_csv(\"data.csv\")"
   ]
  },
  {
   "cell_type": "code",
   "execution_count": 457,
   "metadata": {},
   "outputs": [
    {
     "data": {
      "text/html": [
       "<div>\n",
       "<style scoped>\n",
       "    .dataframe tbody tr th:only-of-type {\n",
       "        vertical-align: middle;\n",
       "    }\n",
       "\n",
       "    .dataframe tbody tr th {\n",
       "        vertical-align: top;\n",
       "    }\n",
       "\n",
       "    .dataframe thead th {\n",
       "        text-align: right;\n",
       "    }\n",
       "</style>\n",
       "<table border=\"1\" class=\"dataframe\">\n",
       "  <thead>\n",
       "    <tr style=\"text-align: right;\">\n",
       "      <th></th>\n",
       "      <th>c1</th>\n",
       "      <th>c2</th>\n",
       "      <th>c3</th>\n",
       "      <th>c4</th>\n",
       "      <th>c5</th>\n",
       "      <th>c6</th>\n",
       "      <th>c7</th>\n",
       "      <th>c8</th>\n",
       "      <th>c9</th>\n",
       "      <th>reg_target</th>\n",
       "      <th>class_target</th>\n",
       "    </tr>\n",
       "  </thead>\n",
       "  <tbody>\n",
       "    <tr>\n",
       "      <th>0</th>\n",
       "      <td>male</td>\n",
       "      <td>22.0</td>\n",
       "      <td>1</td>\n",
       "      <td>0</td>\n",
       "      <td>A/5 21171</td>\n",
       "      <td>NaN</td>\n",
       "      <td>S</td>\n",
       "      <td>Lower Class</td>\n",
       "      <td>Braund, Mr. Owen Harris</td>\n",
       "      <td>7.2500</td>\n",
       "      <td>0</td>\n",
       "    </tr>\n",
       "    <tr>\n",
       "      <th>1</th>\n",
       "      <td>female</td>\n",
       "      <td>38.0</td>\n",
       "      <td>1</td>\n",
       "      <td>0</td>\n",
       "      <td>PC 17599</td>\n",
       "      <td>C85</td>\n",
       "      <td>C</td>\n",
       "      <td>Upper Class</td>\n",
       "      <td>Cumings, Mrs. John Bradley (Florence Briggs Th...</td>\n",
       "      <td>71.2833</td>\n",
       "      <td>1</td>\n",
       "    </tr>\n",
       "    <tr>\n",
       "      <th>2</th>\n",
       "      <td>female</td>\n",
       "      <td>26.0</td>\n",
       "      <td>0</td>\n",
       "      <td>0</td>\n",
       "      <td>STON/O2. 3101282</td>\n",
       "      <td>NaN</td>\n",
       "      <td>S</td>\n",
       "      <td>Lower Class</td>\n",
       "      <td>Heikkinen, Miss. Laina</td>\n",
       "      <td>7.9250</td>\n",
       "      <td>1</td>\n",
       "    </tr>\n",
       "    <tr>\n",
       "      <th>3</th>\n",
       "      <td>female</td>\n",
       "      <td>35.0</td>\n",
       "      <td>1</td>\n",
       "      <td>0</td>\n",
       "      <td>113803</td>\n",
       "      <td>C123</td>\n",
       "      <td>S</td>\n",
       "      <td>Upper Class</td>\n",
       "      <td>Futrelle, Mrs. Jacques Heath (Lily May Peel)</td>\n",
       "      <td>53.1000</td>\n",
       "      <td>1</td>\n",
       "    </tr>\n",
       "    <tr>\n",
       "      <th>4</th>\n",
       "      <td>male</td>\n",
       "      <td>35.0</td>\n",
       "      <td>0</td>\n",
       "      <td>0</td>\n",
       "      <td>373450</td>\n",
       "      <td>NaN</td>\n",
       "      <td>S</td>\n",
       "      <td>Lower Class</td>\n",
       "      <td>Allen, Mr. William Henry</td>\n",
       "      <td>8.0500</td>\n",
       "      <td>0</td>\n",
       "    </tr>\n",
       "  </tbody>\n",
       "</table>\n",
       "</div>"
      ],
      "text/plain": [
       "       c1    c2  c3  c4                c5    c6 c7           c8  \\\n",
       "0    male  22.0   1   0         A/5 21171   NaN  S  Lower Class   \n",
       "1  female  38.0   1   0          PC 17599   C85  C  Upper Class   \n",
       "2  female  26.0   0   0  STON/O2. 3101282   NaN  S  Lower Class   \n",
       "3  female  35.0   1   0            113803  C123  S  Upper Class   \n",
       "4    male  35.0   0   0            373450   NaN  S  Lower Class   \n",
       "\n",
       "                                                  c9  reg_target  class_target  \n",
       "0                            Braund, Mr. Owen Harris      7.2500             0  \n",
       "1  Cumings, Mrs. John Bradley (Florence Briggs Th...     71.2833             1  \n",
       "2                             Heikkinen, Miss. Laina      7.9250             1  \n",
       "3       Futrelle, Mrs. Jacques Heath (Lily May Peel)     53.1000             1  \n",
       "4                           Allen, Mr. William Henry      8.0500             0  "
      ]
     },
     "execution_count": 457,
     "metadata": {},
     "output_type": "execute_result"
    }
   ],
   "source": [
    "#Overview of dataset (first 5 rows)\n",
    "\n",
    "df.head(5)"
   ]
  },
  {
   "cell_type": "code",
   "execution_count": 458,
   "metadata": {},
   "outputs": [
    {
     "name": "stdout",
     "output_type": "stream",
     "text": [
      "Shape of dataframe: (891, 11)\n"
     ]
    }
   ],
   "source": [
    "# Number of rows and columns in dataset\n",
    "\n",
    "print(f\"Shape of dataframe: {df.shape}\")"
   ]
  },
  {
   "cell_type": "code",
   "execution_count": 459,
   "metadata": {},
   "outputs": [
    {
     "name": "stdout",
     "output_type": "stream",
     "text": [
      "The size of the dataset: 9801\n"
     ]
    }
   ],
   "source": [
    "# Size of dataset (total number of elements in the DataFrame)\n",
    "\n",
    "print(f\"The size of the dataset: {df.size}\")"
   ]
  },
  {
   "cell_type": "code",
   "execution_count": 460,
   "metadata": {},
   "outputs": [
    {
     "data": {
      "text/plain": [
       "c1                0\n",
       "c2              177\n",
       "c3                0\n",
       "c4                0\n",
       "c5                0\n",
       "c6              687\n",
       "c7                2\n",
       "c8                0\n",
       "c9                0\n",
       "reg_target        0\n",
       "class_target      0\n",
       "dtype: int64"
      ]
     },
     "execution_count": 460,
     "metadata": {},
     "output_type": "execute_result"
    }
   ],
   "source": [
    "# Missing values for each column\n",
    "\n",
    "missing_values = df.isna().sum()\n",
    "missing_values"
   ]
  },
  {
   "cell_type": "code",
   "execution_count": 461,
   "metadata": {},
   "outputs": [
    {
     "data": {
      "text/plain": [
       "c1              0.000000\n",
       "c2              0.198653\n",
       "c3              0.000000\n",
       "c4              0.000000\n",
       "c5              0.000000\n",
       "c6              0.771044\n",
       "c7              0.002245\n",
       "c8              0.000000\n",
       "c9              0.000000\n",
       "reg_target      0.000000\n",
       "class_target    0.000000\n",
       "dtype: float64"
      ]
     },
     "execution_count": 461,
     "metadata": {},
     "output_type": "execute_result"
    }
   ],
   "source": [
    "# Proportion of missing values\n",
    "\n",
    "total_values = df.shape[0]\n",
    "\n",
    "\n",
    "proportion_missing = missing_values / total_values\n",
    "\n",
    "proportion_missing"
   ]
  },
  {
   "cell_type": "markdown",
   "metadata": {},
   "source": [
    "## Q2: Feature Distribution"
   ]
  },
  {
   "cell_type": "markdown",
   "metadata": {},
   "source": [
    "Fasit: \n",
    "\n",
    "c1 = Categorical --> binary\n",
    "c2 = Numerical --> discrete/continous depending on interpretation\n",
    "c3 = numerical --> discrete\n",
    "c4 = numerical --> discrete\n",
    "c5 = categorical --> nominal\n",
    "c6 = categorical --> nominal\n",
    "c7 = categorical --> nominal\n",
    "c8 = categorical --> ordinal\n",
    "c9 = categorical --> nominal\n",
    "reg_target = Numerical --> continous\n",
    "class_target = Categorical --> binary???\n",
    "\n",
    "['c1', 'c5', 'c6', 'c7', 'c8', 'c9']"
   ]
  },
  {
   "cell_type": "markdown",
   "metadata": {},
   "source": [
    "#### Numerical Features"
   ]
  },
  {
   "cell_type": "code",
   "execution_count": 462,
   "metadata": {},
   "outputs": [
    {
     "data": {
      "text/plain": [
       "c1               object\n",
       "c2              float64\n",
       "c3                int64\n",
       "c4                int64\n",
       "c5               object\n",
       "c6               object\n",
       "c7               object\n",
       "c8               object\n",
       "c9               object\n",
       "reg_target      float64\n",
       "class_target      int64\n",
       "dtype: object"
      ]
     },
     "execution_count": 462,
     "metadata": {},
     "output_type": "execute_result"
    }
   ],
   "source": [
    "# Column data types\n",
    "\n",
    "df.dtypes"
   ]
  },
  {
   "cell_type": "code",
   "execution_count": 463,
   "metadata": {},
   "outputs": [
    {
     "name": "stdout",
     "output_type": "stream",
     "text": [
      "       c2  c3  c4  reg_target  class_target\n",
      "0    22.0   1   0      7.2500             0\n",
      "1    38.0   1   0     71.2833             1\n",
      "2    26.0   0   0      7.9250             1\n",
      "3    35.0   1   0     53.1000             1\n",
      "4    35.0   0   0      8.0500             0\n",
      "..    ...  ..  ..         ...           ...\n",
      "886  27.0   0   0     13.0000             0\n",
      "887  19.0   0   0     30.0000             1\n",
      "888   NaN   1   2     23.4500             0\n",
      "889  26.0   0   0     30.0000             1\n",
      "890  32.0   0   0      7.7500             0\n",
      "\n",
      "[891 rows x 5 columns]\n"
     ]
    },
    {
     "data": {
      "text/plain": [
       "'\\n# Checking for continous and discrete features. \\n\\ncontinuous_features = []\\ndiscrete_features = []\\n\\nfor col in df.columns:\\n    unique_values = df[col].nunique()\\n    if pd.api.types.is_numeric_dtype(df[col]):\\n        if unique_values < 10:\\n            discrete_features.append(col)  # Less than 10 unique values indicates discrete\\n        else:\\n            continuous_features.append(col)  # More unique values indicates continuous\\n\\nprint(\"Continuous Features:\", continuous_features)\\nprint(\"Discrete Features:\", discrete_features)\\n'"
      ]
     },
     "execution_count": 463,
     "metadata": {},
     "output_type": "execute_result"
    }
   ],
   "source": [
    "### Make this one include only the feature names, not the data.\n",
    "\n",
    "numerical_features = df.select_dtypes(include=[\"int64\", \"float64\"])\n",
    "new_numerical_features = df.drop(columns=[\"class_target\"])\n",
    "print(numerical_features) # dropping class_target because Python misinterprets it as a numerical values, but it is binary (categorical).\n",
    "\n",
    "'''\n",
    "# Checking for continous and discrete features. \n",
    "\n",
    "continuous_features = []\n",
    "discrete_features = []\n",
    "\n",
    "for col in df.columns:\n",
    "    unique_values = df[col].nunique()\n",
    "    if pd.api.types.is_numeric_dtype(df[col]):\n",
    "        if unique_values < 10:\n",
    "            discrete_features.append(col)  # Less than 10 unique values indicates discrete\n",
    "        else:\n",
    "            continuous_features.append(col)  # More unique values indicates continuous\n",
    "\n",
    "print(\"Continuous Features:\", continuous_features)\n",
    "print(\"Discrete Features:\", discrete_features)\n",
    "'''"
   ]
  },
  {
   "cell_type": "code",
   "execution_count": 464,
   "metadata": {},
   "outputs": [
    {
     "data": {
      "text/html": [
       "<div>\n",
       "<style scoped>\n",
       "    .dataframe tbody tr th:only-of-type {\n",
       "        vertical-align: middle;\n",
       "    }\n",
       "\n",
       "    .dataframe tbody tr th {\n",
       "        vertical-align: top;\n",
       "    }\n",
       "\n",
       "    .dataframe thead th {\n",
       "        text-align: right;\n",
       "    }\n",
       "</style>\n",
       "<table border=\"1\" class=\"dataframe\">\n",
       "  <thead>\n",
       "    <tr style=\"text-align: right;\">\n",
       "      <th></th>\n",
       "      <th>c2</th>\n",
       "      <th>c3</th>\n",
       "      <th>c4</th>\n",
       "      <th>reg_target</th>\n",
       "      <th>class_target</th>\n",
       "    </tr>\n",
       "  </thead>\n",
       "  <tbody>\n",
       "    <tr>\n",
       "      <th>count</th>\n",
       "      <td>714.000000</td>\n",
       "      <td>891.000000</td>\n",
       "      <td>891.000000</td>\n",
       "      <td>891.000000</td>\n",
       "      <td>891.000000</td>\n",
       "    </tr>\n",
       "    <tr>\n",
       "      <th>mean</th>\n",
       "      <td>29.699118</td>\n",
       "      <td>0.523008</td>\n",
       "      <td>0.381594</td>\n",
       "      <td>32.204208</td>\n",
       "      <td>0.383838</td>\n",
       "    </tr>\n",
       "    <tr>\n",
       "      <th>std</th>\n",
       "      <td>14.526497</td>\n",
       "      <td>1.102743</td>\n",
       "      <td>0.806057</td>\n",
       "      <td>49.693429</td>\n",
       "      <td>0.486592</td>\n",
       "    </tr>\n",
       "    <tr>\n",
       "      <th>min</th>\n",
       "      <td>0.420000</td>\n",
       "      <td>0.000000</td>\n",
       "      <td>0.000000</td>\n",
       "      <td>0.000000</td>\n",
       "      <td>0.000000</td>\n",
       "    </tr>\n",
       "    <tr>\n",
       "      <th>25%</th>\n",
       "      <td>20.125000</td>\n",
       "      <td>0.000000</td>\n",
       "      <td>0.000000</td>\n",
       "      <td>7.910400</td>\n",
       "      <td>0.000000</td>\n",
       "    </tr>\n",
       "    <tr>\n",
       "      <th>50%</th>\n",
       "      <td>28.000000</td>\n",
       "      <td>0.000000</td>\n",
       "      <td>0.000000</td>\n",
       "      <td>14.454200</td>\n",
       "      <td>0.000000</td>\n",
       "    </tr>\n",
       "    <tr>\n",
       "      <th>75%</th>\n",
       "      <td>38.000000</td>\n",
       "      <td>1.000000</td>\n",
       "      <td>0.000000</td>\n",
       "      <td>31.000000</td>\n",
       "      <td>1.000000</td>\n",
       "    </tr>\n",
       "    <tr>\n",
       "      <th>max</th>\n",
       "      <td>80.000000</td>\n",
       "      <td>8.000000</td>\n",
       "      <td>6.000000</td>\n",
       "      <td>512.329200</td>\n",
       "      <td>1.000000</td>\n",
       "    </tr>\n",
       "  </tbody>\n",
       "</table>\n",
       "</div>"
      ],
      "text/plain": [
       "               c2          c3          c4  reg_target  class_target\n",
       "count  714.000000  891.000000  891.000000  891.000000    891.000000\n",
       "mean    29.699118    0.523008    0.381594   32.204208      0.383838\n",
       "std     14.526497    1.102743    0.806057   49.693429      0.486592\n",
       "min      0.420000    0.000000    0.000000    0.000000      0.000000\n",
       "25%     20.125000    0.000000    0.000000    7.910400      0.000000\n",
       "50%     28.000000    0.000000    0.000000   14.454200      0.000000\n",
       "75%     38.000000    1.000000    0.000000   31.000000      1.000000\n",
       "max     80.000000    8.000000    6.000000  512.329200      1.000000"
      ]
     },
     "execution_count": 464,
     "metadata": {},
     "output_type": "execute_result"
    }
   ],
   "source": [
    "# Summarize distribution of numerical features\n",
    "\n",
    "numerical_features.describe()"
   ]
  },
  {
   "cell_type": "code",
   "execution_count": 465,
   "metadata": {},
   "outputs": [
    {
     "data": {
      "image/png": "[encoded data removed]",
      "text/plain": [
       "<Figure size 600x400 with 1 Axes>"
      ]
     },
     "metadata": {},
     "output_type": "display_data"
    }
   ],
   "source": [
    "# Visualize the distribution of the first-in-order numerical features using a box plot.\n",
    "\n",
    "#first_feature = numerical_features.columns[0]\n",
    "\n",
    "first_feature = numerical_features.columns[0]\n",
    "\n",
    "# Create a box plot for the first numerical feature\n",
    "plt.figure(figsize=(6, 4))\n",
    "sns.boxplot(x=numerical_features[first_feature])\n",
    "plt.title(f\"Box Plot of {first_feature}\")\n",
    "plt.show()"
   ]
  },
  {
   "cell_type": "markdown",
   "metadata": {},
   "source": [
    "#### Categorical Features"
   ]
  },
  {
   "cell_type": "code",
   "execution_count": 466,
   "metadata": {},
   "outputs": [
    {
     "data": {
      "text/plain": [
       "'\\nc1 represents gender, and is binary because it can only take two values: male/female\\nc5 is categorical and nominal, because it does not have a specific order.\\nc6 is categotical and nominal, because it does not have a specific order.\\nc7 is categorical and nominal, because it does not have a specific order.\\nc8 is categorical and ordinal. This cateogry can be ordered in a specific order: lower class --> middle class --> upper class\\nc9 is categorical and nominal, because it does not have a specific order.\\nclass_target is categorical and binary. This cateogory takes either value 0 or 1.\\n'"
      ]
     },
     "execution_count": 466,
     "metadata": {},
     "output_type": "execute_result"
    }
   ],
   "source": [
    "# The Categorical Features are the ones that are not numerical.\n",
    "\n",
    "categorical_features = df.select_dtypes(exclude=[\"int64\", \"float64\"])\n",
    "list_categorical_features = df.select_dtypes(exclude=[\"int64\", \"float64\"]).columns.tolist()\n",
    "list_categorical_features.append(\"class_target\")\n",
    "#print(categorical_features)\n",
    "\n",
    "'''\n",
    "c1 represents gender, and is binary because it can only take two values: male/female\n",
    "c5 is categorical and nominal, because it does not have a specific order.\n",
    "c6 is categotical and nominal, because it does not have a specific order.\n",
    "c7 is categorical and nominal, because it does not have a specific order.\n",
    "c8 is categorical and ordinal. This cateogry can be ordered in a specific order: lower class --> middle class --> upper class\n",
    "c9 is categorical and nominal, because it does not have a specific order.\n",
    "class_target is categorical and binary. This cateogory takes either value 0 or 1.\n",
    "'''"
   ]
  },
  {
   "cell_type": "code",
   "execution_count": 467,
   "metadata": {},
   "outputs": [
    {
     "name": "stdout",
     "output_type": "stream",
     "text": [
      "Binary Features: ['c1', 'class_target']\n",
      "Nominal Features: ['c5', 'c6', 'c7', 'c8', 'c9']\n",
      "Ordinal Features: []\n",
      "Count of Categories for Each Categorical Feature:\n",
      " c1                2\n",
      "c5              681\n",
      "c6              147\n",
      "c7                3\n",
      "c8                3\n",
      "c9              891\n",
      "class_target      2\n",
      "dtype: int64\n"
     ]
    },
    {
     "data": {
      "image/png": "[encoded data removed]",
      "text/plain": [
       "<Figure size 640x480 with 1 Axes>"
      ]
     },
     "metadata": {},
     "output_type": "display_data"
    }
   ],
   "source": [
    "import pandas as pd\n",
    "import matplotlib.pyplot as plt\n",
    "\n",
    "# Assuming df is your DataFrame and categorical_features is a list of your categorical columns\n",
    "categorical_features = ['c1', 'c5', 'c6', \"c7\", \"c8\", \"c9\", \"class_target\"]  # Replace with your actual categorical features\n",
    "\n",
    "# Identify the type of each categorical feature\n",
    "binary_features = [col for col in categorical_features if df[col].nunique() == 2]\n",
    "nominal_features = [col for col in categorical_features if df[col].nunique() > 2 and not df[col].dtype.name == 'category']\n",
    "ordinal_features = [col for col in categorical_features if df[col].dtype.name == 'category']\n",
    "\n",
    "print(\"Binary Features:\", binary_features)\n",
    "print(\"Nominal Features:\", nominal_features)\n",
    "print(\"Ordinal Features:\", ordinal_features)\n",
    "\n",
    "# Summarize the count of categories for all categorical features\n",
    "category_counts = df[categorical_features].nunique()\n",
    "print(\"Count of Categories for Each Categorical Feature:\\n\", category_counts)\n",
    "\n",
    "# Visualize the distribution of the first-in-order categorical feature using bar plots\n",
    "first_categorical_feature = categorical_features[0]\n",
    "df[first_categorical_feature].value_counts().plot(kind='bar', color='skyblue')\n",
    "\n",
    "plt.title(f'Distribution of {first_categorical_feature}')\n",
    "plt.xlabel(first_categorical_feature)\n",
    "plt.ylabel('Count')\n",
    "plt.xticks(rotation=45)\n",
    "plt.show()"
   ]
  },
  {
   "cell_type": "markdown",
   "metadata": {},
   "source": [
    "## Q3: Correlation Analysis"
   ]
  },
  {
   "cell_type": "code",
   "execution_count": null,
   "metadata": {},
   "outputs": [
    {
     "data": {
      "image/png": "[encoded data removed]",
      "text/plain": [
       "<Figure size 1000x800 with 2 Axes>"
      ]
     },
     "metadata": {},
     "output_type": "display_data"
    }
   ],
   "source": [
    "### Need to fix perfect correlation problem between identical features.\n",
    "\n",
    "#additional_features = df[[\"reg_target\", \"class_target\"]]\n",
    "\n",
    "# Concatenate the numerical features with the additional features\n",
    "correlation_features = pd.concat([numerical_features], axis=1)\n",
    "\n",
    "# Calculate the correlation matrix\n",
    "correlation_matrix = correlation_features.corr()\n",
    "\n",
    "# Plot the heatmap\n",
    "plt.figure(figsize=(10, 8))\n",
    "sns.heatmap(correlation_matrix, annot=True, cmap='coolwarm', fmt='.2f')\n",
    "\n",
    "plt.title(\"Heatmap of Numeric Values and Targets\")\n",
    "plt.show()"
   ]
  },
  {
   "cell_type": "code",
   "execution_count": null,
   "metadata": {},
   "outputs": [
    {
     "name": "stdout",
     "output_type": "stream",
     "text": [
      "Pairs of Features with Strong Correlations: [('reg_target', 'reg_target'), ('class_target', 'class_target')]\n",
      "Pairs of Features with Weak Correlations: []\n"
     ]
    }
   ],
   "source": [
    "#### There is somethig wrong here\n",
    "\n",
    "# Highlighting strong or weak correlations.\n",
    "\n",
    "strong_threshold = 0.8\n",
    "weak_threshold = -0.8\n",
    "\n",
    "# Identify strong correlations\n",
    "strong_correlations = correlation_matrix[(correlation_matrix.abs() > strong_threshold) & (correlation_matrix.abs() < 1.0)]\n",
    "\n",
    "# Identify weak correlations\n",
    "weak_correlations = correlation_matrix[(correlation_matrix.abs() < weak_threshold) & (correlation_matrix.abs() > 0)]\n",
    "\n",
    "# Extract pairs of features with strong correlations\n",
    "strong_pairs = [(correlation_matrix.index[i], correlation_matrix.columns[j]) \n",
    "                for i in range(len(correlation_matrix)) \n",
    "                for j in range(i+1, len(correlation_matrix)) \n",
    "                if abs(correlation_matrix.iloc[i, j]) > strong_threshold]\n",
    "\n",
    "# Extract pairs of features with weak correlations\n",
    "weak_pairs = [(correlation_matrix.index[i], correlation_matrix.columns[j]) \n",
    "              for i in range(len(correlation_matrix)) \n",
    "              for j in range(i+1, len(correlation_matrix)) \n",
    "              if 0 < abs(correlation_matrix.iloc[i, j]) < weak_threshold]\n",
    "\n",
    "print(\"Pairs of Features with Strong Correlations:\", strong_pairs)\n",
    "print(\"Pairs of Features with Weak Correlations:\", weak_pairs)"
   ]
  }
 ],
 "metadata": {
  "kernelspec": {
   "display_name": "Python 3",
   "language": "python",
   "name": "python3"
  },
  "language_info": {
   "codemirror_mode": {
    "name": "ipython",
    "version": 3
   },
   "file_extension": ".py",
   "mimetype": "text/x-python",
   "name": "python",
   "nbconvert_exporter": "python",
   "pygments_lexer": "ipython3",
   "version": "3.11.4"
  }
 },
 "nbformat": 4,
 "nbformat_minor": 2
}
