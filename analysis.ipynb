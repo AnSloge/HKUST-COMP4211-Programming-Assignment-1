{
 "cells": [
  {
   "cell_type": "code",
   "execution_count": 2238,
   "metadata": {},
   "outputs": [],
   "source": [
    "import numpy as np\n",
    "import pandas as pd\n",
    "import scipy\n",
    "import matplotlib.pyplot as plt\n",
    "import seaborn as sns\n",
    "from sklearn.impute import SimpleImputer\n",
    "from sklearn.preprocessing import StandardScaler, MinMaxScaler, RobustScaler\n",
    "from sklearn.preprocessing import OneHotEncoder, OrdinalEncoder\n",
    "from sklearn.model_selection import train_test_split\n",
    "from sklearn.linear_model import LinearRegression\n",
    "from sklearn.metrics import mean_squared_error\n",
    "import re"
   ]
  },
  {
   "cell_type": "markdown",
   "metadata": {},
   "source": [
    "## Part 1: Data Exploration and Preparation"
   ]
  },
  {
   "cell_type": "markdown",
   "metadata": {},
   "source": [
    "#### Q1: Dataset Overview"
   ]
  },
  {
   "cell_type": "code",
   "execution_count": 2239,
   "metadata": {},
   "outputs": [],
   "source": [
    "df = pd.read_csv(\"data.csv\")"
   ]
  },
  {
   "cell_type": "markdown",
   "metadata": {},
   "source": [
    "COMP4211 - Assignment 1"
   ]
  },
  {
   "cell_type": "code",
   "execution_count": 2240,
   "metadata": {},
   "outputs": [
    {
     "data": {
      "text/html": [
       "<div>\n",
       "<style scoped>\n",
       "    .dataframe tbody tr th:only-of-type {\n",
       "        vertical-align: middle;\n",
       "    }\n",
       "\n",
       "    .dataframe tbody tr th {\n",
       "        vertical-align: top;\n",
       "    }\n",
       "\n",
       "    .dataframe thead th {\n",
       "        text-align: right;\n",
       "    }\n",
       "</style>\n",
       "<table border=\"1\" class=\"dataframe\">\n",
       "  <thead>\n",
       "    <tr style=\"text-align: right;\">\n",
       "      <th></th>\n",
       "      <th>c1</th>\n",
       "      <th>c2</th>\n",
       "      <th>c3</th>\n",
       "      <th>c4</th>\n",
       "      <th>c5</th>\n",
       "      <th>c6</th>\n",
       "      <th>c7</th>\n",
       "      <th>c8</th>\n",
       "      <th>c9</th>\n",
       "      <th>reg_target</th>\n",
       "      <th>class_target</th>\n",
       "    </tr>\n",
       "  </thead>\n",
       "  <tbody>\n",
       "    <tr>\n",
       "      <th>0</th>\n",
       "      <td>male</td>\n",
       "      <td>22.0</td>\n",
       "      <td>1</td>\n",
       "      <td>0</td>\n",
       "      <td>A/5 21171</td>\n",
       "      <td>NaN</td>\n",
       "      <td>S</td>\n",
       "      <td>Lower Class</td>\n",
       "      <td>Braund, Mr. Owen Harris</td>\n",
       "      <td>7.2500</td>\n",
       "      <td>0</td>\n",
       "    </tr>\n",
       "    <tr>\n",
       "      <th>1</th>\n",
       "      <td>female</td>\n",
       "      <td>38.0</td>\n",
       "      <td>1</td>\n",
       "      <td>0</td>\n",
       "      <td>PC 17599</td>\n",
       "      <td>C85</td>\n",
       "      <td>C</td>\n",
       "      <td>Upper Class</td>\n",
       "      <td>Cumings, Mrs. John Bradley (Florence Briggs Th...</td>\n",
       "      <td>71.2833</td>\n",
       "      <td>1</td>\n",
       "    </tr>\n",
       "    <tr>\n",
       "      <th>2</th>\n",
       "      <td>female</td>\n",
       "      <td>26.0</td>\n",
       "      <td>0</td>\n",
       "      <td>0</td>\n",
       "      <td>STON/O2. 3101282</td>\n",
       "      <td>NaN</td>\n",
       "      <td>S</td>\n",
       "      <td>Lower Class</td>\n",
       "      <td>Heikkinen, Miss. Laina</td>\n",
       "      <td>7.9250</td>\n",
       "      <td>1</td>\n",
       "    </tr>\n",
       "    <tr>\n",
       "      <th>3</th>\n",
       "      <td>female</td>\n",
       "      <td>35.0</td>\n",
       "      <td>1</td>\n",
       "      <td>0</td>\n",
       "      <td>113803</td>\n",
       "      <td>C123</td>\n",
       "      <td>S</td>\n",
       "      <td>Upper Class</td>\n",
       "      <td>Futrelle, Mrs. Jacques Heath (Lily May Peel)</td>\n",
       "      <td>53.1000</td>\n",
       "      <td>1</td>\n",
       "    </tr>\n",
       "    <tr>\n",
       "      <th>4</th>\n",
       "      <td>male</td>\n",
       "      <td>35.0</td>\n",
       "      <td>0</td>\n",
       "      <td>0</td>\n",
       "      <td>373450</td>\n",
       "      <td>NaN</td>\n",
       "      <td>S</td>\n",
       "      <td>Lower Class</td>\n",
       "      <td>Allen, Mr. William Henry</td>\n",
       "      <td>8.0500</td>\n",
       "      <td>0</td>\n",
       "    </tr>\n",
       "  </tbody>\n",
       "</table>\n",
       "</div>"
      ],
      "text/plain": [
       "       c1    c2  c3  c4                c5    c6 c7           c8  \\\n",
       "0    male  22.0   1   0         A/5 21171   NaN  S  Lower Class   \n",
       "1  female  38.0   1   0          PC 17599   C85  C  Upper Class   \n",
       "2  female  26.0   0   0  STON/O2. 3101282   NaN  S  Lower Class   \n",
       "3  female  35.0   1   0            113803  C123  S  Upper Class   \n",
       "4    male  35.0   0   0            373450   NaN  S  Lower Class   \n",
       "\n",
       "                                                  c9  reg_target  class_target  \n",
       "0                            Braund, Mr. Owen Harris      7.2500             0  \n",
       "1  Cumings, Mrs. John Bradley (Florence Briggs Th...     71.2833             1  \n",
       "2                             Heikkinen, Miss. Laina      7.9250             1  \n",
       "3       Futrelle, Mrs. Jacques Heath (Lily May Peel)     53.1000             1  \n",
       "4                           Allen, Mr. William Henry      8.0500             0  "
      ]
     },
     "execution_count": 2240,
     "metadata": {},
     "output_type": "execute_result"
    }
   ],
   "source": [
    "#Overview of dataset (first 5 rows)\n",
    "\n",
    "df.head(5)"
   ]
  },
  {
   "cell_type": "code",
   "execution_count": 2241,
   "metadata": {},
   "outputs": [
    {
     "name": "stdout",
     "output_type": "stream",
     "text": [
      "Shape of dataframe: (891, 11)\n"
     ]
    }
   ],
   "source": [
    "# Number of rows and columns in dataset\n",
    "\n",
    "print(f\"Shape of dataframe: {df.shape}\")"
   ]
  },
  {
   "cell_type": "code",
   "execution_count": 2242,
   "metadata": {},
   "outputs": [
    {
     "name": "stdout",
     "output_type": "stream",
     "text": [
      "The size of the dataset: 9801\n"
     ]
    }
   ],
   "source": [
    "# Size of dataset (total number of elements in the DataFrame)\n",
    "\n",
    "print(f\"The size of the dataset: {df.size}\")"
   ]
  },
  {
   "cell_type": "code",
   "execution_count": 2243,
   "metadata": {},
   "outputs": [
    {
     "data": {
      "text/plain": [
       "c1                0\n",
       "c2              177\n",
       "c3                0\n",
       "c4                0\n",
       "c5                0\n",
       "c6              687\n",
       "c7                2\n",
       "c8                0\n",
       "c9                0\n",
       "reg_target        0\n",
       "class_target      0\n",
       "dtype: int64"
      ]
     },
     "execution_count": 2243,
     "metadata": {},
     "output_type": "execute_result"
    }
   ],
   "source": [
    "# Missing values for each column\n",
    "\n",
    "missing_values = df.isna().sum()\n",
    "missing_values"
   ]
  },
  {
   "cell_type": "code",
   "execution_count": 2244,
   "metadata": {},
   "outputs": [
    {
     "data": {
      "text/plain": [
       "c1              0.000000\n",
       "c2              0.198653\n",
       "c3              0.000000\n",
       "c4              0.000000\n",
       "c5              0.000000\n",
       "c6              0.771044\n",
       "c7              0.002245\n",
       "c8              0.000000\n",
       "c9              0.000000\n",
       "reg_target      0.000000\n",
       "class_target    0.000000\n",
       "dtype: float64"
      ]
     },
     "execution_count": 2244,
     "metadata": {},
     "output_type": "execute_result"
    }
   ],
   "source": [
    "# Proportion of missing values\n",
    "\n",
    "total_values = df.shape[0]\n",
    "\n",
    "\n",
    "proportion_missing = missing_values / total_values\n",
    "\n",
    "proportion_missing"
   ]
  },
  {
   "cell_type": "markdown",
   "metadata": {},
   "source": [
    "## Q2: Feature Distribution"
   ]
  },
  {
   "cell_type": "markdown",
   "metadata": {},
   "source": [
    "Fasit: \n",
    "\n",
    "c1 = Categorical --> binary\n",
    "c2 = Numerical --> discrete/continous depending on interpretation\n",
    "c3 = numerical --> discrete\n",
    "c4 = numerical --> discrete\n",
    "c5 = categorical --> nominal\n",
    "c6 = categorical --> nominal\n",
    "c7 = categorical --> nominal\n",
    "c8 = categorical --> ordinal\n",
    "c9 = categorical --> nominal\n",
    "reg_target = Numerical --> continous\n",
    "class_target = Categorical --> binary???\n",
    "\n",
    "['c1', 'c5', 'c6', 'c7', 'c8', 'c9']"
   ]
  },
  {
   "cell_type": "markdown",
   "metadata": {},
   "source": [
    "#### Numerical Features"
   ]
  },
  {
   "cell_type": "code",
   "execution_count": 2245,
   "metadata": {},
   "outputs": [
    {
     "data": {
      "text/plain": [
       "c1               object\n",
       "c2              float64\n",
       "c3                int64\n",
       "c4                int64\n",
       "c5               object\n",
       "c6               object\n",
       "c7               object\n",
       "c8               object\n",
       "c9               object\n",
       "reg_target      float64\n",
       "class_target      int64\n",
       "dtype: object"
      ]
     },
     "execution_count": 2245,
     "metadata": {},
     "output_type": "execute_result"
    }
   ],
   "source": [
    "# Column data types\n",
    "\n",
    "df.dtypes"
   ]
  },
  {
   "cell_type": "code",
   "execution_count": 2246,
   "metadata": {},
   "outputs": [
    {
     "name": "stdout",
     "output_type": "stream",
     "text": [
      "       c2  c3  c4  reg_target  class_target\n",
      "0    22.0   1   0      7.2500             0\n",
      "1    38.0   1   0     71.2833             1\n",
      "2    26.0   0   0      7.9250             1\n",
      "3    35.0   1   0     53.1000             1\n",
      "4    35.0   0   0      8.0500             0\n",
      "..    ...  ..  ..         ...           ...\n",
      "886  27.0   0   0     13.0000             0\n",
      "887  19.0   0   0     30.0000             1\n",
      "888   NaN   1   2     23.4500             0\n",
      "889  26.0   0   0     30.0000             1\n",
      "890  32.0   0   0      7.7500             0\n",
      "\n",
      "[891 rows x 5 columns]\n"
     ]
    },
    {
     "data": {
      "text/plain": [
       "'\\n# Checking for continous and discrete features. \\n\\ncontinuous_features = []\\ndiscrete_features = []\\n\\nfor col in df.columns:\\n    unique_values = df[col].nunique()\\n    if pd.api.types.is_numeric_dtype(df[col]):\\n        if unique_values < 10:\\n            discrete_features.append(col)  # Less than 10 unique values indicates discrete\\n        else:\\n            continuous_features.append(col)  # More unique values indicates continuous\\n\\nprint(\"Continuous Features:\", continuous_features)\\nprint(\"Discrete Features:\", discrete_features)\\n'"
      ]
     },
     "execution_count": 2246,
     "metadata": {},
     "output_type": "execute_result"
    }
   ],
   "source": [
    "### Make this one include only the feature names, not the data.\n",
    "\n",
    "numerical_features = df.select_dtypes(include=[\"int64\", \"float64\"])\n",
    "new_numerical_features = df.drop(columns=[\"class_target\"])\n",
    "print(numerical_features) # dropping class_target because Python misinterprets it as a numerical values, but it is binary (categorical).\n",
    "\n",
    "'''\n",
    "# Checking for continous and discrete features. \n",
    "\n",
    "continuous_features = []\n",
    "discrete_features = []\n",
    "\n",
    "for col in df.columns:\n",
    "    unique_values = df[col].nunique()\n",
    "    if pd.api.types.is_numeric_dtype(df[col]):\n",
    "        if unique_values < 10:\n",
    "            discrete_features.append(col)  # Less than 10 unique values indicates discrete\n",
    "        else:\n",
    "            continuous_features.append(col)  # More unique values indicates continuous\n",
    "\n",
    "print(\"Continuous Features:\", continuous_features)\n",
    "print(\"Discrete Features:\", discrete_features)\n",
    "'''"
   ]
  },
  {
   "cell_type": "code",
   "execution_count": 2247,
   "metadata": {},
   "outputs": [
    {
     "data": {
      "text/html": [
       "<div>\n",
       "<style scoped>\n",
       "    .dataframe tbody tr th:only-of-type {\n",
       "        vertical-align: middle;\n",
       "    }\n",
       "\n",
       "    .dataframe tbody tr th {\n",
       "        vertical-align: top;\n",
       "    }\n",
       "\n",
       "    .dataframe thead th {\n",
       "        text-align: right;\n",
       "    }\n",
       "</style>\n",
       "<table border=\"1\" class=\"dataframe\">\n",
       "  <thead>\n",
       "    <tr style=\"text-align: right;\">\n",
       "      <th></th>\n",
       "      <th>c2</th>\n",
       "      <th>c3</th>\n",
       "      <th>c4</th>\n",
       "      <th>reg_target</th>\n",
       "      <th>class_target</th>\n",
       "    </tr>\n",
       "  </thead>\n",
       "  <tbody>\n",
       "    <tr>\n",
       "      <th>count</th>\n",
       "      <td>714.000000</td>\n",
       "      <td>891.000000</td>\n",
       "      <td>891.000000</td>\n",
       "      <td>891.000000</td>\n",
       "      <td>891.000000</td>\n",
       "    </tr>\n",
       "    <tr>\n",
       "      <th>mean</th>\n",
       "      <td>29.699118</td>\n",
       "      <td>0.523008</td>\n",
       "      <td>0.381594</td>\n",
       "      <td>32.204208</td>\n",
       "      <td>0.383838</td>\n",
       "    </tr>\n",
       "    <tr>\n",
       "      <th>std</th>\n",
       "      <td>14.526497</td>\n",
       "      <td>1.102743</td>\n",
       "      <td>0.806057</td>\n",
       "      <td>49.693429</td>\n",
       "      <td>0.486592</td>\n",
       "    </tr>\n",
       "    <tr>\n",
       "      <th>min</th>\n",
       "      <td>0.420000</td>\n",
       "      <td>0.000000</td>\n",
       "      <td>0.000000</td>\n",
       "      <td>0.000000</td>\n",
       "      <td>0.000000</td>\n",
       "    </tr>\n",
       "    <tr>\n",
       "      <th>25%</th>\n",
       "      <td>20.125000</td>\n",
       "      <td>0.000000</td>\n",
       "      <td>0.000000</td>\n",
       "      <td>7.910400</td>\n",
       "      <td>0.000000</td>\n",
       "    </tr>\n",
       "    <tr>\n",
       "      <th>50%</th>\n",
       "      <td>28.000000</td>\n",
       "      <td>0.000000</td>\n",
       "      <td>0.000000</td>\n",
       "      <td>14.454200</td>\n",
       "      <td>0.000000</td>\n",
       "    </tr>\n",
       "    <tr>\n",
       "      <th>75%</th>\n",
       "      <td>38.000000</td>\n",
       "      <td>1.000000</td>\n",
       "      <td>0.000000</td>\n",
       "      <td>31.000000</td>\n",
       "      <td>1.000000</td>\n",
       "    </tr>\n",
       "    <tr>\n",
       "      <th>max</th>\n",
       "      <td>80.000000</td>\n",
       "      <td>8.000000</td>\n",
       "      <td>6.000000</td>\n",
       "      <td>512.329200</td>\n",
       "      <td>1.000000</td>\n",
       "    </tr>\n",
       "  </tbody>\n",
       "</table>\n",
       "</div>"
      ],
      "text/plain": [
       "               c2          c3          c4  reg_target  class_target\n",
       "count  714.000000  891.000000  891.000000  891.000000    891.000000\n",
       "mean    29.699118    0.523008    0.381594   32.204208      0.383838\n",
       "std     14.526497    1.102743    0.806057   49.693429      0.486592\n",
       "min      0.420000    0.000000    0.000000    0.000000      0.000000\n",
       "25%     20.125000    0.000000    0.000000    7.910400      0.000000\n",
       "50%     28.000000    0.000000    0.000000   14.454200      0.000000\n",
       "75%     38.000000    1.000000    0.000000   31.000000      1.000000\n",
       "max     80.000000    8.000000    6.000000  512.329200      1.000000"
      ]
     },
     "execution_count": 2247,
     "metadata": {},
     "output_type": "execute_result"
    }
   ],
   "source": [
    "# Summarize distribution of numerical features\n",
    "\n",
    "numerical_features.describe()"
   ]
  },
  {
   "cell_type": "code",
   "execution_count": 2248,
   "metadata": {},
   "outputs": [
    {
     "data": {
      "image/png": "[encoded data removed]",
      "text/plain": [
       "<Figure size 600x400 with 1 Axes>"
      ]
     },
     "metadata": {},
     "output_type": "display_data"
    }
   ],
   "source": [
    "# Visualize the distribution of the first-in-order numerical features using a box plot.\n",
    "\n",
    "#first_feature = numerical_features.columns[0]\n",
    "\n",
    "first_feature = numerical_features.columns[0]\n",
    "\n",
    "# Create a box plot for the first numerical feature\n",
    "plt.figure(figsize=(6, 4))\n",
    "sns.boxplot(x=numerical_features[first_feature])\n",
    "plt.title(f\"Box Plot of {first_feature}\")\n",
    "plt.show()"
   ]
  },
  {
   "cell_type": "markdown",
   "metadata": {},
   "source": [
    "#### Categorical Features"
   ]
  },
  {
   "cell_type": "code",
   "execution_count": 2249,
   "metadata": {},
   "outputs": [
    {
     "data": {
      "text/plain": [
       "'\\nc1 represents gender, and is binary because it can only take two values: male/female\\nc5 is categorical and nominal, because it does not have a specific order.\\nc6 is categotical and nominal, because it does not have a specific order.\\nc7 is categorical and nominal, because it does not have a specific order.\\nc8 is categorical and ordinal. This cateogry can be ordered in a specific order: lower class --> middle class --> upper class\\nc9 is categorical and nominal, because it does not have a specific order.\\nclass_target is categorical and binary. This cateogory takes either value 0 or 1.\\n'"
      ]
     },
     "execution_count": 2249,
     "metadata": {},
     "output_type": "execute_result"
    }
   ],
   "source": [
    "# The Categorical Features are the ones that are not numerical.\n",
    "\n",
    "categorical_features = df.select_dtypes(exclude=[\"int64\", \"float64\"])\n",
    "list_categorical_features = df.select_dtypes(exclude=[\"int64\", \"float64\"]).columns.tolist()\n",
    "list_categorical_features.append(\"class_target\")\n",
    "#print(categorical_features)\n",
    "\n",
    "'''\n",
    "c1 represents gender, and is binary because it can only take two values: male/female\n",
    "c5 is categorical and nominal, because it does not have a specific order.\n",
    "c6 is categotical and nominal, because it does not have a specific order.\n",
    "c7 is categorical and nominal, because it does not have a specific order.\n",
    "c8 is categorical and ordinal. This cateogry can be ordered in a specific order: lower class --> middle class --> upper class\n",
    "c9 is categorical and nominal, because it does not have a specific order.\n",
    "class_target is categorical and binary. This cateogory takes either value 0 or 1.\n",
    "'''"
   ]
  },
  {
   "cell_type": "code",
   "execution_count": 2250,
   "metadata": {},
   "outputs": [
    {
     "name": "stdout",
     "output_type": "stream",
     "text": [
      "Binary Features: ['c1', 'class_target']\n",
      "Nominal Features: ['c5', 'c6', 'c7', 'c8', 'c9']\n",
      "Ordinal Features: []\n",
      "Count of Categories for Each Categorical Feature:\n",
      " c1                2\n",
      "c5              681\n",
      "c6              147\n",
      "c7                3\n",
      "c8                3\n",
      "c9              891\n",
      "class_target      2\n",
      "dtype: int64\n"
     ]
    },
    {
     "data": {
      "image/png": "[encoded data removed]",
      "text/plain": [
       "<Figure size 640x480 with 1 Axes>"
      ]
     },
     "metadata": {},
     "output_type": "display_data"
    }
   ],
   "source": [
    "# Assuming df is your DataFrame and categorical_features is a list of your categorical columns\n",
    "categorical_features = ['c1', 'c5', 'c6', \"c7\", \"c8\", \"c9\", \"class_target\"]  # Replace with your actual categorical features\n",
    "\n",
    "# Identify the type of each categorical feature\n",
    "binary_features = [col for col in categorical_features if df[col].nunique() == 2]\n",
    "nominal_features = [col for col in categorical_features if df[col].nunique() > 2 and not df[col].dtype.name == 'category']\n",
    "ordinal_features = [col for col in categorical_features if df[col].dtype.name == 'category']\n",
    "\n",
    "print(\"Binary Features:\", binary_features)\n",
    "print(\"Nominal Features:\", nominal_features)\n",
    "print(\"Ordinal Features:\", ordinal_features)\n",
    "\n",
    "# Summarize the count of categories for all categorical features\n",
    "category_counts = df[categorical_features].nunique()\n",
    "print(\"Count of Categories for Each Categorical Feature:\\n\", category_counts)\n",
    "\n",
    "# Visualize the distribution of the first-in-order categorical feature using bar plots\n",
    "first_categorical_feature = categorical_features[0]\n",
    "df[first_categorical_feature].value_counts().plot(kind='bar', color='skyblue')\n",
    "\n",
    "plt.title(f'Distribution of {first_categorical_feature}')\n",
    "plt.xlabel(first_categorical_feature)\n",
    "plt.ylabel('Count')\n",
    "plt.xticks(rotation=45)\n",
    "plt.show()"
   ]
  },
  {
   "cell_type": "markdown",
   "metadata": {},
   "source": [
    "## Q3: Correlation Analysis"
   ]
  },
  {
   "cell_type": "code",
   "execution_count": 2251,
   "metadata": {},
   "outputs": [
    {
     "data": {
      "image/png": "[encoded data removed]",
      "text/plain": [
       "<Figure size 1000x800 with 2 Axes>"
      ]
     },
     "metadata": {},
     "output_type": "display_data"
    }
   ],
   "source": [
    "### Need to fix perfect correlation problem between identical features.\n",
    "\n",
    "#additional_features = df[[\"reg_target\", \"class_target\"]]\n",
    "\n",
    "# Concatenate the numerical features with the additional features\n",
    "correlation_features = pd.concat([numerical_features], axis=1)\n",
    "\n",
    "# Calculate the correlation matrix\n",
    "correlation_matrix = correlation_features.corr()\n",
    "\n",
    "# Plot the heatmap\n",
    "plt.figure(figsize=(10, 8))\n",
    "sns.heatmap(correlation_matrix, annot=True, cmap='coolwarm', fmt='.2f')\n",
    "\n",
    "plt.title(\"Heatmap of Numeric Values and Targets\")\n",
    "plt.show()"
   ]
  },
  {
   "cell_type": "code",
   "execution_count": 2252,
   "metadata": {},
   "outputs": [
    {
     "data": {
      "text/plain": [
       "'\\n\\n# Highlighting strong or weak correlations.\\n\\nstrong_threshold = 0.8\\nweak_threshold = -0.8\\n\\n# Identify strong correlations\\nstrong_correlations = correlation_matrix[(correlation_matrix.abs() > strong_threshold) & (correlation_matrix.abs() < 1.0)]\\n\\n# Identify weak correlations\\nweak_correlations = correlation_matrix[(correlation_matrix.abs() < weak_threshold) & (correlation_matrix.abs() > 0)]\\n\\n# Extract pairs of features with strong correlations\\nstrong_pairs = [(correlation_matrix.index[i], correlation_matrix.columns[j]) \\n                for i in range(len(correlation_matrix)) \\n                for j in range(i+1, len(correlation_matrix)) \\n                if abs(correlation_matrix.iloc[i, j]) > strong_threshold]\\n\\n# Extract pairs of features with weak correlations\\nweak_pairs = [(correlation_matrix.index[i], correlation_matrix.columns[j]) \\n              for i in range(len(correlation_matrix)) \\n              for j in range(i+1, len(correlation_matrix)) \\n              if 0 < abs(correlation_matrix.iloc[i, j]) < weak_threshold]\\n\\nprint(\"Pairs of Features with Strong Correlations:\", strong_pairs)\\nprint(\"Pairs of Features with Weak Correlations:\", weak_pairs)\\n'"
      ]
     },
     "execution_count": 2252,
     "metadata": {},
     "output_type": "execute_result"
    }
   ],
   "source": [
    "#### There is somethig wrong here\n",
    "\n",
    "'''\n",
    "\n",
    "# Highlighting strong or weak correlations.\n",
    "\n",
    "strong_threshold = 0.8\n",
    "weak_threshold = -0.8\n",
    "\n",
    "# Identify strong correlations\n",
    "strong_correlations = correlation_matrix[(correlation_matrix.abs() > strong_threshold) & (correlation_matrix.abs() < 1.0)]\n",
    "\n",
    "# Identify weak correlations\n",
    "weak_correlations = correlation_matrix[(correlation_matrix.abs() < weak_threshold) & (correlation_matrix.abs() > 0)]\n",
    "\n",
    "# Extract pairs of features with strong correlations\n",
    "strong_pairs = [(correlation_matrix.index[i], correlation_matrix.columns[j]) \n",
    "                for i in range(len(correlation_matrix)) \n",
    "                for j in range(i+1, len(correlation_matrix)) \n",
    "                if abs(correlation_matrix.iloc[i, j]) > strong_threshold]\n",
    "\n",
    "# Extract pairs of features with weak correlations\n",
    "weak_pairs = [(correlation_matrix.index[i], correlation_matrix.columns[j]) \n",
    "              for i in range(len(correlation_matrix)) \n",
    "              for j in range(i+1, len(correlation_matrix)) \n",
    "              if 0 < abs(correlation_matrix.iloc[i, j]) < weak_threshold]\n",
    "\n",
    "print(\"Pairs of Features with Strong Correlations:\", strong_pairs)\n",
    "print(\"Pairs of Features with Weak Correlations:\", weak_pairs)\n",
    "'''"
   ]
  },
  {
   "cell_type": "markdown",
   "metadata": {},
   "source": [
    "## Part 2: Data Preprocessing Techniques"
   ]
  },
  {
   "cell_type": "markdown",
   "metadata": {},
   "source": [
    "#### [Q4] Handling missing values\n",
    "\n",
    "Remove c6\n",
    "Use median/mean on the other missing columns"
   ]
  },
  {
   "cell_type": "code",
   "execution_count": 2253,
   "metadata": {},
   "outputs": [
    {
     "name": "stdout",
     "output_type": "stream",
     "text": [
      "c1              0\n",
      "c2              0\n",
      "c3              0\n",
      "c4              0\n",
      "c5              0\n",
      "c7              0\n",
      "c8              0\n",
      "c9              0\n",
      "reg_target      0\n",
      "class_target    0\n",
      "dtype: int64\n"
     ]
    }
   ],
   "source": [
    "# Dropping feature c6 because it has >70% NaN values\n",
    "df = df.drop([\"c6\"], axis=1)\n",
    "\n",
    "# Median imputation for c2 because it has a moderate amount of missing values.\n",
    "median_imputer = SimpleImputer(strategy='median')\n",
    "df['c2'] = median_imputer.fit_transform(df[['c2']])  # Ensure 2D input\n",
    "\n",
    "# Mode imputation for c7 because it has a small amount of missing values.\n",
    "mode_imputer = SimpleImputer(strategy='most_frequent')\n",
    "df['c7'] = mode_imputer.fit_transform(df[['c7']]).ravel()  # Flatten to 1D\n",
    "\n",
    "# No more missing values.\n",
    "print(df.isna().sum())\n"
   ]
  },
  {
   "cell_type": "markdown",
   "metadata": {},
   "source": [
    "#### [Q5] Normalization and Standardization of first-in-order feature"
   ]
  },
  {
   "cell_type": "code",
   "execution_count": 2254,
   "metadata": {},
   "outputs": [
    {
     "name": "stdout",
     "output_type": "stream",
     "text": [
      "Before processing:\n",
      "0    22.0\n",
      "1    38.0\n",
      "2    26.0\n",
      "3    35.0\n",
      "4    35.0\n",
      "5    28.0\n",
      "6    54.0\n",
      "7     2.0\n",
      "8    27.0\n",
      "9    14.0\n",
      "Name: c2, dtype: float64\n",
      "\n",
      "After processing with StandardScaler:\n",
      "0   -0.565736\n",
      "1    0.663861\n",
      "2   -0.258337\n",
      "3    0.433312\n",
      "4    0.433312\n",
      "5   -0.104637\n",
      "6    1.893459\n",
      "7   -2.102733\n",
      "8   -0.181487\n",
      "9   -1.180535\n",
      "Name: c2_standard, dtype: float64\n",
      "\n",
      "After processing with MinMaxScaler:\n",
      "0    0.271174\n",
      "1    0.472229\n",
      "2    0.321438\n",
      "3    0.434531\n",
      "4    0.434531\n",
      "5    0.346569\n",
      "6    0.673285\n",
      "7    0.019854\n",
      "8    0.334004\n",
      "9    0.170646\n",
      "Name: c2_minmax, dtype: float64\n",
      "\n",
      "After processing with RobustScaler:\n",
      "0   -0.461538\n",
      "1    0.769231\n",
      "2   -0.153846\n",
      "3    0.538462\n",
      "4    0.538462\n",
      "5    0.000000\n",
      "6    2.000000\n",
      "7   -2.000000\n",
      "8   -0.076923\n",
      "9   -1.076923\n",
      "Name: c2_robust, dtype: float64\n",
      "\n",
      "The new dataframe with scaled features:\n",
      "       c1    c2  c3  c4                c5 c7            c8  \\\n",
      "0    male  22.0   1   0         A/5 21171  S   Lower Class   \n",
      "1  female  38.0   1   0          PC 17599  C   Upper Class   \n",
      "2  female  26.0   0   0  STON/O2. 3101282  S   Lower Class   \n",
      "3  female  35.0   1   0            113803  S   Upper Class   \n",
      "4    male  35.0   0   0            373450  S   Lower Class   \n",
      "5    male  28.0   0   0            330877  Q   Lower Class   \n",
      "6    male  54.0   0   0             17463  S   Upper Class   \n",
      "7    male   2.0   3   1            349909  S   Lower Class   \n",
      "8  female  27.0   0   2            347742  S   Lower Class   \n",
      "9  female  14.0   1   0            237736  C  Middle Class   \n",
      "\n",
      "                                                  c9  reg_target  \\\n",
      "0                            Braund, Mr. Owen Harris      7.2500   \n",
      "1  Cumings, Mrs. John Bradley (Florence Briggs Th...     71.2833   \n",
      "2                             Heikkinen, Miss. Laina      7.9250   \n",
      "3       Futrelle, Mrs. Jacques Heath (Lily May Peel)     53.1000   \n",
      "4                           Allen, Mr. William Henry      8.0500   \n",
      "5                                   Moran, Mr. James      8.4583   \n",
      "6                            McCarthy, Mr. Timothy J     51.8625   \n",
      "7                     Palsson, Master. Gosta Leonard     21.0750   \n",
      "8  Johnson, Mrs. Oscar W (Elisabeth Vilhelmina Berg)     11.1333   \n",
      "9                Nasser, Mrs. Nicholas (Adele Achem)     30.0708   \n",
      "\n",
      "   class_target  c2_standard  c2_minmax  c2_robust  \n",
      "0             0    -0.565736   0.271174  -0.461538  \n",
      "1             1     0.663861   0.472229   0.769231  \n",
      "2             1    -0.258337   0.321438  -0.153846  \n",
      "3             1     0.433312   0.434531   0.538462  \n",
      "4             0     0.433312   0.434531   0.538462  \n",
      "5             0    -0.104637   0.346569   0.000000  \n",
      "6             0     1.893459   0.673285   2.000000  \n",
      "7             0    -2.102733   0.019854  -2.000000  \n",
      "8             1    -0.181487   0.334004  -0.076923  \n",
      "9             1    -1.180535   0.170646  -1.076923  \n"
     ]
    }
   ],
   "source": [
    "first_feature = 'c2'\n",
    "\n",
    "# Display the first 10 samples before processing\n",
    "print(\"Before processing:\")\n",
    "print(df[first_feature].head(10))\n",
    "\n",
    "# Create a new dataframe that will not include the scaled values\n",
    "df_scaled = df.copy()  # Create a copy of the original dataframe\n",
    "\n",
    "# Standard Scaling\n",
    "standard_scaler = StandardScaler()\n",
    "df_scaled[first_feature + '_standard'] = standard_scaler.fit_transform(df[[first_feature]])\n",
    "\n",
    "# Min-Max Scaling\n",
    "minmax_scaler = MinMaxScaler()\n",
    "df_scaled[first_feature + '_minmax'] = minmax_scaler.fit_transform(df[[first_feature]])\n",
    "\n",
    "# Robust Scaling\n",
    "robust_scaler = RobustScaler()\n",
    "df_scaled[first_feature + '_robust'] = robust_scaler.fit_transform(df[[first_feature]])\n",
    "\n",
    "# Display the first 10 samples after processing in the new dataframe\n",
    "print(\"\\nAfter processing with StandardScaler:\")\n",
    "print(df_scaled[first_feature + '_standard'].head(10))\n",
    "\n",
    "print(\"\\nAfter processing with MinMaxScaler:\")\n",
    "print(df_scaled[first_feature + '_minmax'].head(10))\n",
    "\n",
    "print(\"\\nAfter processing with RobustScaler:\")\n",
    "print(df_scaled[first_feature + '_robust'].head(10))\n",
    "\n",
    "# Show the first few rows of the new dataframe (scaled dataframe)\n",
    "print(\"\\nThe new dataframe with scaled features:\")\n",
    "print(df_scaled.head(10))\n"
   ]
  },
  {
   "cell_type": "markdown",
   "metadata": {},
   "source": [
    "## [Q6] "
   ]
  },
  {
   "cell_type": "markdown",
   "metadata": {},
   "source": [
    "#### Removing features with more than 70% unique values."
   ]
  },
  {
   "cell_type": "code",
   "execution_count": 2255,
   "metadata": {},
   "outputs": [
    {
     "name": "stdout",
     "output_type": "stream",
     "text": [
      "Updated DataFrame:\n"
     ]
    },
    {
     "data": {
      "text/html": [
       "<div>\n",
       "<style scoped>\n",
       "    .dataframe tbody tr th:only-of-type {\n",
       "        vertical-align: middle;\n",
       "    }\n",
       "\n",
       "    .dataframe tbody tr th {\n",
       "        vertical-align: top;\n",
       "    }\n",
       "\n",
       "    .dataframe thead th {\n",
       "        text-align: right;\n",
       "    }\n",
       "</style>\n",
       "<table border=\"1\" class=\"dataframe\">\n",
       "  <thead>\n",
       "    <tr style=\"text-align: right;\">\n",
       "      <th></th>\n",
       "      <th>c1</th>\n",
       "      <th>c2</th>\n",
       "      <th>c3</th>\n",
       "      <th>c4</th>\n",
       "      <th>c7</th>\n",
       "      <th>c8</th>\n",
       "      <th>reg_target</th>\n",
       "      <th>class_target</th>\n",
       "    </tr>\n",
       "  </thead>\n",
       "  <tbody>\n",
       "    <tr>\n",
       "      <th>0</th>\n",
       "      <td>male</td>\n",
       "      <td>22.0</td>\n",
       "      <td>1</td>\n",
       "      <td>0</td>\n",
       "      <td>S</td>\n",
       "      <td>Lower Class</td>\n",
       "      <td>7.2500</td>\n",
       "      <td>0</td>\n",
       "    </tr>\n",
       "    <tr>\n",
       "      <th>1</th>\n",
       "      <td>female</td>\n",
       "      <td>38.0</td>\n",
       "      <td>1</td>\n",
       "      <td>0</td>\n",
       "      <td>C</td>\n",
       "      <td>Upper Class</td>\n",
       "      <td>71.2833</td>\n",
       "      <td>1</td>\n",
       "    </tr>\n",
       "    <tr>\n",
       "      <th>2</th>\n",
       "      <td>female</td>\n",
       "      <td>26.0</td>\n",
       "      <td>0</td>\n",
       "      <td>0</td>\n",
       "      <td>S</td>\n",
       "      <td>Lower Class</td>\n",
       "      <td>7.9250</td>\n",
       "      <td>1</td>\n",
       "    </tr>\n",
       "    <tr>\n",
       "      <th>3</th>\n",
       "      <td>female</td>\n",
       "      <td>35.0</td>\n",
       "      <td>1</td>\n",
       "      <td>0</td>\n",
       "      <td>S</td>\n",
       "      <td>Upper Class</td>\n",
       "      <td>53.1000</td>\n",
       "      <td>1</td>\n",
       "    </tr>\n",
       "    <tr>\n",
       "      <th>4</th>\n",
       "      <td>male</td>\n",
       "      <td>35.0</td>\n",
       "      <td>0</td>\n",
       "      <td>0</td>\n",
       "      <td>S</td>\n",
       "      <td>Lower Class</td>\n",
       "      <td>8.0500</td>\n",
       "      <td>0</td>\n",
       "    </tr>\n",
       "  </tbody>\n",
       "</table>\n",
       "</div>"
      ],
      "text/plain": [
       "       c1    c2  c3  c4 c7           c8  reg_target  class_target\n",
       "0    male  22.0   1   0  S  Lower Class      7.2500             0\n",
       "1  female  38.0   1   0  C  Upper Class     71.2833             1\n",
       "2  female  26.0   0   0  S  Lower Class      7.9250             1\n",
       "3  female  35.0   1   0  S  Upper Class     53.1000             1\n",
       "4    male  35.0   0   0  S  Lower Class      8.0500             0"
      ]
     },
     "execution_count": 2255,
     "metadata": {},
     "output_type": "execute_result"
    }
   ],
   "source": [
    "copy_df = df.copy()\n",
    "\n",
    "\n",
    "# Step 1: Select categorical features\n",
    "categorical_features = df.select_dtypes(include=[\"object\"])\n",
    "\n",
    "# Calculate percentage of unique values for categorical features\n",
    "unique_percentage = categorical_features.nunique() / len(df) * 100\n",
    "\n",
    "# Drop categorical features with more than 70% unique values \n",
    "columns_to_drop = unique_percentage[unique_percentage > 70].index\n",
    "\n",
    "# Step 3: Remove these columns from the DataFrame\n",
    "df = df.drop(columns=columns_to_drop)\n",
    "\n",
    "print(\"Updated DataFrame:\")\n",
    "(df.head())\n"
   ]
  },
  {
   "cell_type": "markdown",
   "metadata": {},
   "source": [
    "#### Encoding Categorical Variables"
   ]
  },
  {
   "cell_type": "code",
   "execution_count": 2256,
   "metadata": {},
   "outputs": [
    {
     "name": "stdout",
     "output_type": "stream",
     "text": [
      "First-in-order categorical feature (before encoding):\n",
      "       c1\n",
      "0    male\n",
      "1  female\n",
      "2  female\n",
      "3  female\n",
      "4    male\n",
      "5    male\n",
      "6    male\n",
      "7    male\n",
      "8  female\n",
      "9  female\n",
      "\n",
      "First-in-order categorical feature (after encoding):\n",
      "   c1_male\n",
      "0      1.0\n",
      "1      0.0\n",
      "2      0.0\n",
      "3      0.0\n",
      "4      1.0\n",
      "5      1.0\n",
      "6      1.0\n",
      "7      1.0\n",
      "8      0.0\n",
      "9      0.0\n"
     ]
    }
   ],
   "source": [
    "\n",
    "# Step 1: Report the first-in-order categorical feature (before encoding)\n",
    "print(\"First-in-order categorical feature (before encoding):\")\n",
    "print(df[['c1']].head(10))  # Displaying 'c1' before encoding\n",
    "\n",
    "# Step 2: Apply OneHotEncoder to the 'c1' column (Male/Female)\n",
    "onehot_encoder = OneHotEncoder(drop='first', sparse_output=False)  # Use sparse_output instead of sparse\n",
    "\n",
    "# Reshape 'c1' into a 2D array for OneHotEncoder\n",
    "encoded_c1 = onehot_encoder.fit_transform(df[['c1']])\n",
    "\n",
    "# Convert the encoded output to a DataFrame and name the column 'c1_male'\n",
    "encoded_c1_df = pd.DataFrame(encoded_c1, columns=onehot_encoder.get_feature_names_out(['c1']))\n",
    "\n",
    "# Step 3: Drop the original 'c1' column\n",
    "df = df.drop(columns=['c1'])\n",
    "\n",
    "# Step 4: Ensure that c1_male is the first column in the DataFrame\n",
    "df = pd.concat([encoded_c1_df, df], axis=1)  # Concatenate 'c1_male' to the DataFrame, ensuring it's the first column\n",
    "\n",
    "# Step 5: Apply Ordinal Encoding for ordinal columns (for example, 'c8')\n",
    "ordinal_columns = ['c8']  # Assuming 'c8' is the ordinal column\n",
    "ordinal_encoder = OrdinalEncoder(categories=[[\"Lower Class\", \"Middle Class\", \"Upper Class\"]])\n",
    "df[ordinal_columns] = ordinal_encoder.fit_transform(df[ordinal_columns])\n",
    "\n",
    "# Step 6: OneHot Encoding for nominal columns (for example, 'c7')\n",
    "nominal_columns = ['c7']  # Assuming 'c7' is the nominal column\n",
    "onehot_encoder_nominal = OneHotEncoder(drop='first', sparse_output=False)  # Fixed sparse issue\n",
    "encoded_nominal = onehot_encoder_nominal.fit_transform(df[nominal_columns])\n",
    "\n",
    "# Convert the encoded nominal columns to a DataFrame with appropriate column names\n",
    "encoded_nominal_df = pd.DataFrame(encoded_nominal, columns=onehot_encoder_nominal.get_feature_names_out(nominal_columns))\n",
    "\n",
    "# Step 7: Drop the original nominal columns and concatenate the encoded columns\n",
    "df = df.drop(columns=nominal_columns)\n",
    "df = pd.concat([df, encoded_nominal_df], axis=1)\n",
    "\n",
    "# Step 8: Report the first-in-order categorical feature (after encoding)\n",
    "# After encoding, the first-in-order categorical feature is 'c1_male'\n",
    "print(\"\\nFirst-in-order categorical feature (after encoding):\")\n",
    "print(df[['c1_male']].head(10))  # Displaying 'c1_male' after encoding\n",
    "\n",
    "# Brief explanation of when OrdinalEncoder is preferred over OneHotEncoder:\n",
    "\n",
    "# OrdinalEncoder is preferred when the categorical variable has a clear ordering or ranking, \n",
    "# such as education levels, where the values 'High School', 'Associate', 'Bachelor', 'Master', 'PhD'\n",
    "# can be ranked. It preserves the ordinal relationship.\n",
    "\n",
    "# Example:\n",
    "# - 'Education Level' -> Ordinal Encoding would map 'High School' -> 0, 'Associate' -> 1, 'Bachelor' -> 2, etc.\n",
    "\n",
    "# OneHotEncoder is preferred when the categorical variable has no inherent order (nominal categories), \n",
    "# such as 'City' or 'Department'. OneHotEncoding creates a separate column for each category.\n",
    "\n",
    "# Example:\n",
    "# - 'Gender' -> OneHot Encoding would create two columns: 'Male' and 'Female' (with 'Female' as the reference column).\n"
   ]
  },
  {
   "cell_type": "code",
   "execution_count": 2257,
   "metadata": {},
   "outputs": [
    {
     "data": {
      "text/plain": [
       "\"\\n# Step 3: Handle Ordinal and Nominal Features\\n# Define your ordinal features and their correct order (if needed)\\nordinal_features = ['c8']  # Replace with actual ordinal features\\nordinal_encoder = OrdinalEncoder(categories=[['Lower Class', 'Middle Class', 'Upper Class']])  # Example ordinal categories\\n\\n# Initialize OneHotEncoder for nominal features (without dropping the first column to avoid multicollinearity)\\nonehot_encoder = OneHotEncoder(drop='first', sparse_output=False)  # drop='first' to avoid multicollinearity\\n\\n# Apply OrdinalEncoder to ordinal features\\ndf[ordinal_features] = ordinal_encoder.fit_transform(df[ordinal_features])\\n\\n# Apply OneHotEncoder to nominal features\\nnominal_features = [col for col in df.columns if col not in ordinal_features]\\ndf_nominal_encoded = onehot_encoder.fit_transform(df[nominal_features])\\n\\n# Convert the encoded nominal features back to a DataFrame and append to df\\ndf_nominal_encoded_df = pd.DataFrame(df_nominal_encoded, columns=onehot_encoder.get_feature_names_out(nominal_features))\\n\\n# Convert all the one-hot encoded columns to integer type\\ndf_nominal_encoded_df = df_nominal_encoded_df.astype(int)\\n\\n# Drop original nominal columns and join the new one-hot encoded columns\\ndf = df.drop(nominal_features, axis=1).join(df_nominal_encoded_df)\\n\\n# Step 4: Report the first-in-order categorical feature column before and after processing\\nbefore_processing = categorical_features.head(10)  # First 10 rows before encoding\\nafter_processing = df.head(10)  # First 10 rows after encoding\\n\\n# Ensure the first categorical column exists before and after processing\\nfirst_categorical_column_before = categorical_features.columns[0]\\n\\n# Show the first categorical feature column before and after processing\\nif first_categorical_column_before in before_processing.columns:\\n    before = before_processing[first_categorical_column_before]\\nelse:\\n    before = None\\n\\nafter_columns = [col for col in after_processing.columns if first_categorical_column_before in col]\\nafter = after_processing[after_columns].iloc[:, 0] if after_columns else None\\n\\nbefore, after\\n\""
      ]
     },
     "execution_count": 2257,
     "metadata": {},
     "output_type": "execute_result"
    }
   ],
   "source": [
    "'''\n",
    "# Step 3: Handle Ordinal and Nominal Features\n",
    "# Define your ordinal features and their correct order (if needed)\n",
    "ordinal_features = ['c8']  # Replace with actual ordinal features\n",
    "ordinal_encoder = OrdinalEncoder(categories=[['Lower Class', 'Middle Class', 'Upper Class']])  # Example ordinal categories\n",
    "\n",
    "# Initialize OneHotEncoder for nominal features (without dropping the first column to avoid multicollinearity)\n",
    "onehot_encoder = OneHotEncoder(drop='first', sparse_output=False)  # drop='first' to avoid multicollinearity\n",
    "\n",
    "# Apply OrdinalEncoder to ordinal features\n",
    "df[ordinal_features] = ordinal_encoder.fit_transform(df[ordinal_features])\n",
    "\n",
    "# Apply OneHotEncoder to nominal features\n",
    "nominal_features = [col for col in df.columns if col not in ordinal_features]\n",
    "df_nominal_encoded = onehot_encoder.fit_transform(df[nominal_features])\n",
    "\n",
    "# Convert the encoded nominal features back to a DataFrame and append to df\n",
    "df_nominal_encoded_df = pd.DataFrame(df_nominal_encoded, columns=onehot_encoder.get_feature_names_out(nominal_features))\n",
    "\n",
    "# Convert all the one-hot encoded columns to integer type\n",
    "df_nominal_encoded_df = df_nominal_encoded_df.astype(int)\n",
    "\n",
    "# Drop original nominal columns and join the new one-hot encoded columns\n",
    "df = df.drop(nominal_features, axis=1).join(df_nominal_encoded_df)\n",
    "\n",
    "# Step 4: Report the first-in-order categorical feature column before and after processing\n",
    "before_processing = categorical_features.head(10)  # First 10 rows before encoding\n",
    "after_processing = df.head(10)  # First 10 rows after encoding\n",
    "\n",
    "# Ensure the first categorical column exists before and after processing\n",
    "first_categorical_column_before = categorical_features.columns[0]\n",
    "\n",
    "# Show the first categorical feature column before and after processing\n",
    "if first_categorical_column_before in before_processing.columns:\n",
    "    before = before_processing[first_categorical_column_before]\n",
    "else:\n",
    "    before = None\n",
    "\n",
    "after_columns = [col for col in after_processing.columns if first_categorical_column_before in col]\n",
    "after = after_processing[after_columns].iloc[:, 0] if after_columns else None\n",
    "\n",
    "before, after\n",
    "'''\n"
   ]
  },
  {
   "cell_type": "code",
   "execution_count": 2258,
   "metadata": {},
   "outputs": [
    {
     "name": "stdout",
     "output_type": "stream",
     "text": [
      "Index(['c1', 'c5', 'c7', 'c8', 'c9'], dtype='object')\n"
     ]
    }
   ],
   "source": [
    "print(categorical_features.columns)"
   ]
  },
  {
   "cell_type": "markdown",
   "metadata": {},
   "source": [
    "#### [Q7] Future Engineering"
   ]
  },
  {
   "cell_type": "code",
   "execution_count": 2259,
   "metadata": {},
   "outputs": [
    {
     "name": "stdout",
     "output_type": "stream",
     "text": [
      "   c1_male    c2  c3  c4   c8  reg_target  class_target  c7_Q  c7_S  Mr  Mrs  \\\n",
      "0      1.0  22.0   1   0  0.0      7.2500             0   0.0   1.0   1    0   \n",
      "1      0.0  38.0   1   0  2.0     71.2833             1   0.0   0.0   0    1   \n",
      "2      0.0  26.0   0   0  0.0      7.9250             1   0.0   1.0   0    0   \n",
      "3      0.0  35.0   1   0  2.0     53.1000             1   0.0   1.0   0    1   \n",
      "4      1.0  35.0   0   0  0.0      8.0500             0   0.0   1.0   1    0   \n",
      "\n",
      "   Master  Miss  \n",
      "0       0     0  \n",
      "1       0     0  \n",
      "2       0     1  \n",
      "3       0     0  \n",
      "4       0     0  \n"
     ]
    }
   ],
   "source": [
    "# Step 1: Make a copy of the original dataset to preserve it\n",
    "\n",
    "\n",
    "# Step 2: Extract titles from 'c9' column\n",
    "def extract_titles(name):\n",
    "    # Define regex patterns for the titles\n",
    "    titles = ['Mr', 'Mrs', 'Master', 'Miss']\n",
    "    \n",
    "    # Initialize dictionary to store the presence of each title\n",
    "    title_dict = {title: 0 for title in titles}\n",
    "    \n",
    "    # Search for the title in the name using regex\n",
    "    for title in titles:\n",
    "        if re.search(r'\\b' + title + r'\\b', name):  # word boundary to ensure it's a whole word\n",
    "            title_dict[title] = 1  # Set presence to 1 if found\n",
    "    \n",
    "    return title_dict\n",
    "\n",
    "# Apply the function to extract titles for each row in the 'c9' column (or equivalent column)\n",
    "title_columns = copy_df['c9'].apply(extract_titles).apply(pd.Series)\n",
    "\n",
    "# Concatenate the title columns with the original DataFrame copy\n",
    "df_copy = pd.concat([copy_df, title_columns], axis=1)\n",
    "\n",
    "# Step 3: Perform OneHotEncoding on 'c1' (and any other columns needed)\n",
    "\n",
    "# One-hot encode 'c1' and drop the first category (assuming you want that)\n",
    "onehot_encoder = OneHotEncoder(drop='first', sparse_output=False)  # Use drop='first' to avoid multicollinearity\n",
    "encoded_c1 = onehot_encoder.fit_transform(df_copy[['c1']])\n",
    "\n",
    "# Convert the encoded 'c1' to a DataFrame and get the column names\n",
    "encoded_c1_df = pd.DataFrame(encoded_c1, columns=onehot_encoder.get_feature_names_out(['c1']))\n",
    "\n",
    "# Add the encoded 'c1' columns back to the DataFrame and drop the original 'c1'\n",
    "df_copy = pd.concat([df_copy, encoded_c1_df], axis=1)\n",
    "df_copy = df_copy.drop(columns=['c1'])\n",
    "\n",
    "# Step 4: Merge the newly created title columns into the original dataset\n",
    "# Ensure that the original dataset (df) has the same number of rows as df_copy\n",
    "df = pd.concat([df, title_columns], axis=1)\n",
    "\n",
    "# Now the titles are in the original dataset (df), and OneHotEncoding has been applied.\n",
    "print(df.head())  # Check the updated DataFrame with titles and one-hot encoding\n"
   ]
  },
  {
   "cell_type": "markdown",
   "metadata": {},
   "source": [
    "## Part 3: Regression"
   ]
  },
  {
   "cell_type": "code",
   "execution_count": 2260,
   "metadata": {},
   "outputs": [
    {
     "name": "stdout",
     "output_type": "stream",
     "text": [
      "Training set features shape: (712, 11)\n",
      "Validation set features shape: (179, 11)\n",
      "Training set target shape: (712,)\n",
      "Validation set target shape: (179,)\n"
     ]
    }
   ],
   "source": [
    "seed = 4211\n",
    "\n",
    "# Define features (X) and target (y)\n",
    "X = df.drop(columns=[\"reg_target\", \"class_target\"])  # Drop target columns from the features\n",
    "y = df[\"reg_target\"]  # You can use 'class_target' if that is the target variable\n",
    "\n",
    "# Split the data into training and validation sets (80% training, 20% validation)\n",
    "X_train, X_val, y_train, y_val = train_test_split(X, y, test_size=0.2, random_state=seed, shuffle=True)\n",
    "\n",
    "# Reset the indices to ensure a consistent structure\n",
    "X_train = X_train.reset_index(drop=True)\n",
    "y_train = y_train.reset_index(drop=True)\n",
    "X_val = X_val.reset_index(drop=True)\n",
    "y_val = y_val.reset_index(drop=True)\n",
    "\n",
    "# Check the shapes of the resulting sets\n",
    "print(\"Training set features shape:\", X_train.shape)\n",
    "print(\"Validation set features shape:\", X_val.shape)\n",
    "print(\"Training set target shape:\", y_train.shape)\n",
    "print(\"Validation set target shape:\", y_val.shape)"
   ]
  },
  {
   "cell_type": "markdown",
   "metadata": {},
   "source": [
    "#### First step: Building Linear Regression models"
   ]
  },
  {
   "cell_type": "code",
   "execution_count": 2261,
   "metadata": {},
   "outputs": [
    {
     "name": "stdout",
     "output_type": "stream",
     "text": [
      "\n",
      "------------------TRAINING DATA RESULTS---------------------\n",
      "\n",
      "Feature: c2\n",
      "  Coefficient: 0.33672536610463094\n",
      "  Intercept: 21.151519122556017\n",
      "  R-squared: 0.009252051027266006\n",
      "\n",
      "Feature: c8\n",
      "  Coefficient: 30.68182406597961\n",
      "  Intercept: 10.281798663384532\n",
      "  R-squared: 0.29903490904184027\n",
      "\n"
     ]
    }
   ],
   "source": [
    "features = ['c2', 'c8']  # List of numerical / ordinal features\n",
    "# Initialize a dictionary to store results\n",
    "results = {}\n",
    "\n",
    "# Loop through each feature and fit a linear regression model\n",
    "for feature in features:\n",
    "    # Select the feature as a single column DataFrame\n",
    "    X_feature = X_train[[feature]]  # Only one feature at a time\n",
    "    y_train_copy = y_train  # Target variable (reg_target)\n",
    "\n",
    "    # Fit a linear regression model\n",
    "    model = LinearRegression()\n",
    "    model.fit(X_feature, y_train_copy)\n",
    "\n",
    "    # Extract the coefficient and the intercept\n",
    "    coefficient = model.coef_[0]\n",
    "    intercept = model.intercept_\n",
    "\n",
    "    # Optionally, calculate R-squared to show how well the model fits\n",
    "    r_squared = model.score(X_feature, y_train_copy)\n",
    "\n",
    "    # Store the results\n",
    "    results[feature] = {\n",
    "        'coefficient': coefficient,\n",
    "        'intercept': intercept,\n",
    "        'r_squared': r_squared\n",
    "    }\n",
    "print(\"\\n------------------TRAINING DATA RESULTS---------------------\\n\")\n",
    "# Display the results for each feature\n",
    "for feature, result in results.items():\n",
    "    print(f\"Feature: {feature}\")\n",
    "    print(f\"  Coefficient: {result['coefficient']}\")\n",
    "    print(f\"  Intercept: {result['intercept']}\")\n",
    "    print(f\"  R-squared: {result['r_squared']}\\n\")"
   ]
  },
  {
   "cell_type": "markdown",
   "metadata": {},
   "source": [
    "#### Combining ordinal and numerical features to make two linear regression models"
   ]
  },
  {
   "cell_type": "code",
   "execution_count": 2262,
   "metadata": {},
   "outputs": [
    {
     "name": "stdout",
     "output_type": "stream",
     "text": [
      "\n",
      "------------------TRAINING DATA RESULTS---------------------\n",
      "\n",
      "Model with all features:\n",
      "  Coefficients: [-0.36191223 32.66990543]\n",
      "  Intercept: 19.490305119890103\n",
      "  R-squared: 0.30846728916254273\n",
      "  Mean Squared Error (MSE): 1493.3198781977492\n"
     ]
    }
   ],
   "source": [
    "# Prepare the feature matrix X_all (all selected features) and target variable y\n",
    "X_all = X_train[features]  # Use the training features\n",
    "y_train_copy = y_train  # Target variable\n",
    "\n",
    "# Initialize and fit the model using all the features\n",
    "model_all_features = LinearRegression()\n",
    "model_all_features.fit(X_all, y_train_copy)\n",
    "\n",
    "# Make predictions on the training data\n",
    "y_train_pred_all = model_all_features.predict(X_all)\n",
    "\n",
    "# Calculate R-squared to evaluate how well the model fits the data\n",
    "r_squared_all = model_all_features.score(X_all, y_train_copy)\n",
    "\n",
    "# Calculate Mean Squared Error (optional, for model evaluation)\n",
    "mse_all = mean_squared_error(y_train_copy, y_train_pred_all)\n",
    "\n",
    "print(\"\\n------------------TRAINING DATA RESULTS---------------------\\n\")\n",
    "\n",
    "# Display the results\n",
    "print(\"Model with all features:\")\n",
    "print(f\"  Coefficients: {model_all_features.coef_}\")\n",
    "print(f\"  Intercept: {model_all_features.intercept_}\")\n",
    "print(f\"  R-squared: {r_squared_all}\")\n",
    "print(f\"  Mean Squared Error (MSE): {mse_all}\")"
   ]
  },
  {
   "cell_type": "code",
   "execution_count": 2263,
   "metadata": {},
   "outputs": [
    {
     "name": "stdout",
     "output_type": "stream",
     "text": [
      "\n",
      "------------------VALIDATION DATA RESULTS---------------------\n",
      "\n",
      "Feature: c2\n",
      "  R-squared: -0.0007323018501832479\n",
      "  Mean Squared Error (MSE): 3661.0534152354076\n",
      "\n",
      "Feature: c8\n",
      "  R-squared: 0.2985972777734175\n",
      "  Mean Squared Error (MSE): 2565.9937496925836\n",
      "\n",
      "Combined Model with All Features:\n",
      "  R-squared: 0.30727998064139495\n",
      "  Mean Squared Error (MSE): 2534.2291719633417\n"
     ]
    }
   ],
   "source": [
    "validation_results = {}\n",
    "\n",
    "# Loop through each feature and evaluate its model on the validation set\n",
    "for feature in features:\n",
    "    # Select the feature from the validation set\n",
    "    X_val_feature = X_val[[feature]]  # Only one feature at a time\n",
    "    y_val_copy = y_val  # Target variable (reg_target)\n",
    "\n",
    "    # Initialize and train a new linear regression model for each feature\n",
    "    model = LinearRegression()\n",
    "    model.fit(X_train[[feature]], y_train)  # Train the model using only this feature\n",
    "\n",
    "    # Make predictions on the validation set\n",
    "    y_val_pred = model.predict(X_val_feature)\n",
    "\n",
    "    # Calculate R-squared and MSE for the validation set\n",
    "    r_squared_val = model.score(X_val_feature, y_val_copy)\n",
    "    mse_val = mean_squared_error(y_val_copy, y_val_pred)\n",
    "\n",
    "    # Store the results\n",
    "    validation_results[feature] = {\n",
    "        'r_squared': r_squared_val,\n",
    "        'mse': mse_val\n",
    "    }\n",
    "\n",
    "print(\"\\n------------------VALIDATION DATA RESULTS---------------------\\n\")\n",
    "\n",
    "\n",
    "# Display the results for each feature on the validation set\n",
    "for feature, result in validation_results.items():\n",
    "    print(f\"Feature: {feature}\")\n",
    "    print(f\"  R-squared: {result['r_squared']}\")\n",
    "    print(f\"  Mean Squared Error (MSE): {result['mse']}\\n\")\n",
    "\n",
    "# Now, build a combined model using all selected features\n",
    "X_train_all = X_train[features]\n",
    "X_val_all = X_val[features]\n",
    "\n",
    "# Initialize and train the combined model\n",
    "combined_model = LinearRegression()\n",
    "combined_model.fit(X_train_all, y_train)\n",
    "\n",
    "# Make predictions on the validation set for the combined model\n",
    "y_val_pred_combined = combined_model.predict(X_val_all)\n",
    "\n",
    "# Calculate R-squared and MSE for the combined model on the validation set\n",
    "r_squared_combined = combined_model.score(X_val_all, y_val)\n",
    "mse_combined = mean_squared_error(y_val, y_val_pred_combined)\n",
    "\n",
    "\n",
    "# Report results for the combined model\n",
    "print(\"Combined Model with All Features:\")\n",
    "print(f\"  R-squared: {r_squared_combined}\")\n",
    "print(f\"  Mean Squared Error (MSE): {mse_combined}\")"
   ]
  },
  {
   "cell_type": "markdown",
   "metadata": {},
   "source": [
    "#### [Q9]"
   ]
  }
 ],
 "metadata": {
  "kernelspec": {
   "display_name": "Python 3",
   "language": "python",
   "name": "python3"
  },
  "language_info": {
   "codemirror_mode": {
    "name": "ipython",
    "version": 3
   },
   "file_extension": ".py",
   "mimetype": "text/x-python",
   "name": "python",
   "nbconvert_exporter": "python",
   "pygments_lexer": "ipython3",
   "version": "3.11.4"
  }
 },
 "nbformat": 4,
 "nbformat_minor": 2
}
